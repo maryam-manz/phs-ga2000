{
 "cells": [
  {
   "cell_type": "markdown",
   "id": "385c71f3",
   "metadata": {},
   "source": [
    "# Question 1"
   ]
  },
  {
   "cell_type": "code",
   "execution_count": 122,
   "id": "86b6d4dd",
   "metadata": {},
   "outputs": [],
   "source": [
    "import numpy as np\n",
    "import struct\n",
    "import time\n",
    "import matplotlib.pyplot as plt"
   ]
  },
  {
   "cell_type": "code",
   "execution_count": 124,
   "id": "e0d1d8e6",
   "metadata": {},
   "outputs": [
    {
     "name": "stdout",
     "output_type": "stream",
     "text": [
      "Original number: 100.98763\n",
      "32-bit float number: 100.98763\n",
      "Binary representation: 01000010110010011111100110101011\n",
      "32 bit float number after reconverting the binary: 100.98763275146484\n",
      "Difference: -2.7514648479609605e-06\n"
     ]
    },
    {
     "name": "stderr",
     "output_type": "stream",
     "text": [
      "<ipython-input-124-f20b8b484fe9>:3: DeprecationWarning: `np.float` is a deprecated alias for the builtin `float`. To silence this warning, use `float` by itself. Doing this will not modify any behavior and is safe. If you specifically wanted the numpy scalar type, use `np.float64` here.\n",
      "Deprecated in NumPy 1.20; for more details and guidance: https://numpy.org/devdocs/release/1.20.0-notes.html#deprecations\n",
      "  bit32 = np.float(og)\n"
     ]
    }
   ],
   "source": [
    "og = 100.98763\n",
    "\n",
    "bit32 = np.float(og)\n",
    "\n",
    "# 'f' is the format for 32-bit float, 'I' is for unsigned int\n",
    "binary_rep = ''.join(f'{c:08b}' for c in struct.pack('>f', bit32))\n",
    "\n",
    "# print(binary_rep)\n",
    "\n",
    "# Binary back to float\n",
    "float_again = struct.unpack('>f', struct.pack('>I', int(binary_rep, 2)))[0]\n",
    "\n",
    "# print(float_again)\n",
    "\n",
    "difference = og - float_again\n",
    "\n",
    "# print (difference)\n",
    "\n",
    "\n",
    "print(f\"Original number: {og}\")\n",
    "print(f\"32-bit float number: {bit32}\")\n",
    "print(f\"Binary representation: {binary_rep}\")\n",
    "print(f\"32 bit float number after reconverting the binary: {float_again}\")\n",
    "print(f\"Difference: {difference}\")\n"
   ]
  },
  {
   "cell_type": "markdown",
   "id": "4c17788b",
   "metadata": {},
   "source": [
    "Note: np when i subtracted bit32 from the original number i got 0.0 as output"
   ]
  },
  {
   "cell_type": "markdown",
   "id": "4a19a7cc",
   "metadata": {},
   "source": [
    "# Question 2"
   ]
  },
  {
   "cell_type": "code",
   "execution_count": 7,
   "id": "b8f01394",
   "metadata": {},
   "outputs": [
    {
     "name": "stdout",
     "output_type": "stream",
     "text": [
      "Machine parameters for float32\n",
      "---------------------------------------------------------------\n",
      "precision =   6   resolution = 1.0000000e-06\n",
      "machep =    -23   eps =        1.1920929e-07\n",
      "negep =     -24   epsneg =     5.9604645e-08\n",
      "minexp =   -126   tiny =       1.1754944e-38\n",
      "maxexp =    128   max =        3.4028235e+38\n",
      "nexp =        8   min =        -max\n",
      "smallest_normal = 1.1754944e-38   smallest_subnormal = 1.4012985e-45\n",
      "---------------------------------------------------------------\n",
      "\n",
      "Machine parameters for float64\n",
      "---------------------------------------------------------------\n",
      "precision =  15   resolution = 1.0000000000000001e-15\n",
      "machep =    -52   eps =        2.2204460492503131e-16\n",
      "negep =     -53   epsneg =     1.1102230246251565e-16\n",
      "minexp =  -1022   tiny =       2.2250738585072014e-308\n",
      "maxexp =   1024   max =        1.7976931348623157e+308\n",
      "nexp =       11   min =        -max\n",
      "smallest_normal = 2.2250738585072014e-308   smallest_subnormal = 4.9406564584124654e-324\n",
      "---------------------------------------------------------------\n",
      "\n"
     ]
    }
   ],
   "source": [
    "# theoretical numbers\n",
    "\n",
    "print(np.finfo(np.float32()))\n",
    "\n",
    "print(np.finfo(np.float64()))"
   ]
  },
  {
   "cell_type": "code",
   "execution_count": 8,
   "id": "dccbed77",
   "metadata": {},
   "outputs": [
    {
     "name": "stdout",
     "output_type": "stream",
     "text": [
      "0.00000000000000000000000000000000000000000000140129846432481707092373\n"
     ]
    }
   ],
   "source": [
    "smallest_float = np.float32(np.float32(2**(-126))*np.float32(2**(-23)))\n",
    "\n",
    "np.set_printoptions(suppress= True ,precision= 50)\n",
    "\n",
    "print(f\"{smallest_float:.68f}\")\n",
    "\n"
   ]
  },
  {
   "cell_type": "code",
   "execution_count": 9,
   "id": "06c311d5",
   "metadata": {},
   "outputs": [
    {
     "name": "stdout",
     "output_type": "stream",
     "text": [
      "Precision Test:\n",
      "Smallest epsilon for np.float32: 1.1920928955078125e-07\n",
      "Smallest epsilon for np.float64: 2.220446049250313e-16\n"
     ]
    }
   ],
   "source": [
    "\n",
    "# Precision Test (largest value added to 1 such that result is different from 1)\n",
    "def find_epsilon(dtype):\n",
    "    epsilon = dtype(1)\n",
    "    while dtype(1) + epsilon != dtype(1):\n",
    "        epsilon /= dtype(2) # divided by 2 since thats the binary value each digit is incremented by\n",
    "    return epsilon * 2  # The last epsilon before the sum becomes equal to 1\n",
    "\n",
    "# Finding epsilon for 32-bit and 64-bit floats\n",
    "epsilon_32 = find_epsilon(np.float32)\n",
    "epsilon_64 = find_epsilon(np.float64)\n",
    "\n",
    "# Displaying results\n",
    "print(\"Precision Test:\")\n",
    "print(f\"Smallest epsilon for np.float32: {epsilon_32}\")\n",
    "print(f\"Smallest epsilon for np.float64: {epsilon_64}\")\n",
    "\n"
   ]
  },
  {
   "cell_type": "code",
   "execution_count": 10,
   "id": "1cf408d1",
   "metadata": {
    "scrolled": true
   },
   "outputs": [
    {
     "name": "stdout",
     "output_type": "stream",
     "text": [
      "Dynamic range test\n",
      "Maximum for np.float32: 2.6843546003927346e+38\n",
      "Maximum for np.float64: 1.418129833677085e+308\n",
      "Minimum for np.float32: -2.6843546003927346e+38\n",
      "Minimum for np.float64: -1.418129833677085e+308\n",
      "Smallest normal for np.float32: 1.401298464324817e-45\n",
      "Smallest normal for np.float64: 5e-324\n"
     ]
    },
    {
     "name": "stderr",
     "output_type": "stream",
     "text": [
      "<ipython-input-10-9ec98358eb40>:11: RuntimeWarning: overflow encountered in double_scalars\n",
      "  large_64 *= 2\n"
     ]
    }
   ],
   "source": [
    "# Start with a large number and keep multiplying by 2 until overflow (approx inf)\n",
    "# make sure everything is calculated in 32 bits and 64 bits respectively\n",
    "print(\"Dynamic range test\")\n",
    "\n",
    "large_32 = np.float32(1e30)\n",
    "large_64 = np.float64(1e30)\n",
    "\n",
    "\n",
    "while not np.isinf(np.float64(large_64)): #the function checks if the value in the bracket is infinity\n",
    "    max_64 = np.float64(large_64) # To store the value before it becomes inf\n",
    "    large_64 *= 2\n",
    "\n",
    "while not np.isinf(np.float32(large_32)): #the function checks if the value in the bracket is infinity\n",
    "    max_32 = np.float32(large_32) # To store the value before it becomes inf\n",
    "    large_32 *= 2\n",
    "\n",
    "\n",
    "print(f\"Maximum for np.float32: {max_32}\")\n",
    "print(f\"Maximum for np.float64: {max_64}\")\n",
    "print(f\"Minimum for np.float32: {-max_32}\")\n",
    "print(f\"Minimum for np.float64: {-max_64}\")\n",
    "\n",
    "\n",
    "# Start with a small number and keep dividing by 2 until underflow (approx 0)\n",
    "small_32 = np.float32(1e-30)\n",
    "small_64 = np.float64(1e-30)\n",
    "\n",
    "while np.float32(np.float32(small_32)) > 0:\n",
    "    smallest_32 = np.float32(small_32)\n",
    "    small_32 /= 2\n",
    "    \n",
    "while np.float64(np.float64(small_64)) > 0:\n",
    "    smallest_64 = np.float64(small_64)\n",
    "    small_64 /= 2\n",
    "\n",
    "print(f\"Smallest normal for np.float32: {smallest_32}\")\n",
    "print(f\"Smallest normal for np.float64: {smallest_64}\")"
   ]
  },
  {
   "cell_type": "markdown",
   "id": "c522d6a5",
   "metadata": {},
   "source": [
    "# Question 3 For Loops\n"
   ]
  },
  {
   "cell_type": "code",
   "execution_count": 9,
   "id": "3d098c3b",
   "metadata": {},
   "outputs": [
    {
     "name": "stdout",
     "output_type": "stream",
     "text": [
      "-1.7418198158396654\n",
      "Time taken = 33.772305965423584\n"
     ]
    }
   ],
   "source": [
    "# Madelung constant derrivation while keeping all other constants 1\n",
    "start = time.time()\n",
    "\n",
    "L = 100 # the number of atoms on each side\n",
    "\n",
    "M = 0\n",
    "\n",
    "i = 0\n",
    "j = 0\n",
    "k = 0\n",
    "\n",
    "\n",
    "\n",
    "for i in range(-L, L+1):\n",
    "    for j in range(-L, L+1):\n",
    "        for k in range(-L,L+1):\n",
    "            if i== j == k == 0:\n",
    "                continue   \n",
    "            M += ((-1)**abs(i+j+k))/np.sqrt((i**2)+(j**2)+(k**2))\n",
    "            \n",
    "            \n",
    "print(M)\n",
    "end = time.time()\n",
    "\n",
    "print(f'Time taken = {end-start}')\n",
    "\n",
    "            \n",
    "    \n"
   ]
  },
  {
   "cell_type": "markdown",
   "id": "b5a51bb6",
   "metadata": {},
   "source": [
    "# Question 3 without for Loops "
   ]
  },
  {
   "cell_type": "code",
   "execution_count": 28,
   "id": "c40be1b9",
   "metadata": {},
   "outputs": [
    {
     "name": "stdout",
     "output_type": "stream",
     "text": [
      "-1.7418198158362388\n",
      "Time taken = 0.32591700553894043\n"
     ]
    }
   ],
   "source": [
    "start2 = time.time()\n",
    "L = 100  # Number of atoms on each side\n",
    "\n",
    "# Create arrays of i, j, and k values ranging from -L to L excluding 0\n",
    "i_vals = np.arange(-L, L + 1)\n",
    "j_vals = np.arange(-L, L + 1)\n",
    "k_vals = np.arange(-L, L + 1)\n",
    "\n",
    "\n",
    "\n",
    "# Use meshgrid to create 3D grids for i, j, k values\n",
    "i_grid, j_grid, k_grid = np.meshgrid(i_vals, j_vals, k_vals, indexing='ij')\n",
    "\n",
    "# Calculate the squared distance for each point (i^2 + j^2 + k^2)\n",
    "dist_sq = np.float64(i_grid**2 + j_grid**2 + k_grid**2)\n",
    "\n",
    "# Calculate the alternating sign (-1)^(i + j + k)\n",
    "signs = (-1)**abs(i_grid + j_grid + k_grid)\n",
    "\n",
    "# Create a mask to exclude the (0, 0, 0) point\n",
    "mask = (i_grid == 0) & (j_grid == 0) & (k_grid == 0)\n",
    "\n",
    "# Remove the zero distance points from the calculation (set dist_sq to avoid division by zero)\n",
    "dist_sq[mask] = np.inf  # Set the value to inf so that value becomes 0 and isnt added to the sum\n",
    "\n",
    "result = signs / np.sqrt(dist_sq)\n",
    "\n",
    "# Sum all the values in the result array to get M\n",
    "M = np.sum(result)\n",
    "\n",
    "end2 = time.time() \n",
    "print(M)\n",
    "print(f'Time taken = {end2-start2}')\n"
   ]
  },
  {
   "cell_type": "markdown",
   "id": "c8fd0e72",
   "metadata": {},
   "source": [
    "# Question 4\n"
   ]
  },
  {
   "cell_type": "code",
   "execution_count": 86,
   "id": "247094d5",
   "metadata": {},
   "outputs": [
    {
     "name": "stderr",
     "output_type": "stream",
     "text": [
      "<ipython-input-86-9c911200c071>:18: RuntimeWarning: overflow encountered in square\n",
      "  z_p = z**2 + c_grid\n",
      "<ipython-input-86-9c911200c071>:18: RuntimeWarning: invalid value encountered in square\n",
      "  z_p = z**2 + c_grid\n"
     ]
    }
   ],
   "source": [
    "# del j\n",
    "N = 50 #NxN grid\n",
    "iteration = 100\n",
    "\n",
    "x = np.linspace(-2, 2, N)\n",
    "y = np.linspace(-2, 2, N)\n",
    "\n",
    "\n",
    "x_grid, y_grid = np.meshgrid(x, y, indexing='xy')\n",
    "\n",
    "c_grid = x_grid + y_grid*1j\n",
    "\n",
    "z = c_grid\n",
    "  \n",
    "\n",
    "\n",
    "for i in range(iteration):\n",
    "    z_p = z**2 + c_grid\n",
    "    z = z_p\n",
    "    \n",
    "ugh = (abs(z)<=2)\n"
   ]
  },
  {
   "cell_type": "code",
   "execution_count": 94,
   "id": "762d0643",
   "metadata": {},
   "outputs": [
    {
     "data": {
      "text/plain": [
       "<matplotlib.image.AxesImage at 0x7fb38f44c0a0>"
      ]
     },
     "execution_count": 94,
     "metadata": {},
     "output_type": "execute_result"
    },
    {
     "data": {
      "image/png": "[encoded data removed]",
      "text/plain": [
       "<Figure size 432x288 with 1 Axes>"
      ]
     },
     "metadata": {
      "needs_background": "light"
     },
     "output_type": "display_data"
    }
   ],
   "source": [
    "plt.imshow(ugh, cmap='gray',extent = [-2,2,-2,2])"
   ]
  },
  {
   "cell_type": "markdown",
   "id": "597af655",
   "metadata": {},
   "source": [
    "# Question 5"
   ]
  },
  {
   "cell_type": "code",
   "execution_count": 119,
   "id": "d792647a",
   "metadata": {},
   "outputs": [
    {
     "name": "stdout",
     "output_type": "stream",
     "text": [
      "Please enter the value for a\n",
      "1\n",
      "Please enter the value for b\n",
      "1\n",
      "Please enter the value for c\n",
      "1\n",
      "The two roots are : x1 = nan and x2 = nan\n"
     ]
    },
    {
     "name": "stderr",
     "output_type": "stream",
     "text": [
      "<ipython-input-119-b6523f0ef580>:9: RuntimeWarning: invalid value encountered in sqrt\n",
      "  x1 = (-b+np.sqrt(b**2-4*a*c))/(2*a)\n",
      "<ipython-input-119-b6523f0ef580>:10: RuntimeWarning: invalid value encountered in sqrt\n",
      "  x2 = (-b-np.sqrt(b**2-4*a*c))/(2*a)\n"
     ]
    }
   ],
   "source": [
    "print(\"Please enter the value for a\")\n",
    "a = float(input())\n",
    "print(\"Please enter the value for b\")\n",
    "b = float(input())\n",
    "print(\"Please enter the value for c\")\n",
    "c = float(input())\n",
    "\n",
    "\n",
    "x1 = (-b+np.sqrt(b**2-4*a*c))/(2*a)\n",
    "x2 = (-b-np.sqrt(b**2-4*a*c))/(2*a)\n",
    "print(f'The two roots are : x1 = {x1} and x2 = {x2}')"
   ]
  },
  {
   "cell_type": "code",
   "execution_count": 116,
   "id": "f4bb7dca",
   "metadata": {},
   "outputs": [
    {
     "name": "stdout",
     "output_type": "stream",
     "text": [
      "The two roots are : x3 = -1.000000000001e-06 and x4 = -1000010.5755125057\n"
     ]
    }
   ],
   "source": [
    "x3 = 2*c/(-b-np.sqrt(b**2-4*a*c))\n",
    "x4 = 2*c/(-b+np.sqrt(b**2-4*a*c))\n",
    "\n",
    "print(f'The two roots are : x3 = {x3} and x4 = {x4}')"
   ]
  },
  {
   "cell_type": "markdown",
   "id": "534013fb",
   "metadata": {},
   "source": [
    "#The problem is that when subtracting numbers, the precision of floating-point representation is reduced because the computer can only store a finite number of digits (typically 16). Subtraction between close numbers can lead to significant accuracy loss"
   ]
  },
  {
   "cell_type": "code",
   "execution_count": 121,
   "id": "b276df8d",
   "metadata": {},
   "outputs": [
    {
     "name": "stdout",
     "output_type": "stream",
     "text": [
      "The roots of the quadratic equation are: -999999.999999 and -1.000000000001e-06\n"
     ]
    }
   ],
   "source": [
    "def quadratic(a, b, c):\n",
    "    discriminant = b**2 - 4*a*c\n",
    "    \n",
    "    # Check if the discriminant is negative, which means complex roots\n",
    "    if discriminant < 0:\n",
    "        real_part = -b / (2*a)\n",
    "        imaginary_part = np.sqrt(-discriminant) / (2*a)\n",
    "        return (complex(real_part, imaginary_part), complex(real_part, -imaginary_part))\n",
    "    \n",
    "   \n",
    "    sqrt_discriminant = np.sqrt(discriminant)\n",
    "    \n",
    "    if b >= 0:\n",
    "        root1 = (-b - sqrt_discriminant) / (2*a)\n",
    "        root2 = (2*c) / (-b - sqrt_discriminant)  # Using an alternate form\n",
    "    else:\n",
    "        root1 = (-b + sqrt_discriminant) / (2*a)\n",
    "        root2 = (2*c) / (-b + sqrt_discriminant)  # Using an alternate form\n",
    "    \n",
    "    return (root1, root2)\n",
    "\n",
    "\n",
    "\n",
    "\n",
    "root1, root2 = quadratic_roots(0.001, 1000, 0.001)\n",
    "print(f\"The roots of the quadratic equation are: {root1} and {root2}\")\n",
    "\n"
   ]
  },
  {
   "cell_type": "code",
   "execution_count": null,
   "id": "011336e9",
   "metadata": {},
   "outputs": [],
   "source": []
  },
  {
   "cell_type": "code",
   "execution_count": null,
   "id": "72894bf1",
   "metadata": {},
   "outputs": [],
   "source": []
  }
 ],
 "metadata": {
  "kernelspec": {
   "display_name": "Python 3",
   "language": "python",
   "name": "python3"
  },
  "language_info": {
   "codemirror_mode": {
    "name": "ipython",
    "version": 3
   },
   "file_extension": ".py",
   "mimetype": "text/x-python",
   "name": "python",
   "nbconvert_exporter": "python",
   "pygments_lexer": "ipython3",
   "version": "3.8.8"
  }
 },
 "nbformat": 4,
 "nbformat_minor": 5
}
