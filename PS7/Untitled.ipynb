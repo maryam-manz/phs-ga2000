{
 "cells": [
  {
   "cell_type": "code",
   "execution_count": 1,
   "id": "6001cb22",
   "metadata": {},
   "outputs": [],
   "source": [
    "import numpy as np\n",
    "from scipy.optimize import brent"
   ]
  },
  {
   "cell_type": "code",
   "execution_count": 16,
   "id": "7baaddc1",
   "metadata": {
    "scrolled": true
   },
   "outputs": [
    {
     "name": "stdout",
     "output_type": "stream",
     "text": [
      "Minimum at x = 0.29993417, f(x) = 0.00000001\n"
     ]
    },
    {
     "data": {
      "text/plain": [
       "{\"Custom Brent's Method\": (0.2999341731279726, 5.8487922270829544e-09),\n",
       " \"SciPy Brent's Method\": (0.300000000023735, 7.604441571421801e-22)}"
      ]
     },
     "execution_count": 16,
     "metadata": {},
     "output_type": "execute_result"
    }
   ],
   "source": [
    "def f(x):\n",
    "    \"\"\"The function to minimize: (x - 0.3)^2 * exp(x).\"\"\"\n",
    "    return (x - 0.3) ** 2 * np.exp(x)\n",
    "\n",
    "def brent_method(f, a, b, tol=1e-10, max_iter=500):\n",
    "    \"\"\"Robust implementation of Brent's method with parabolic interpolation and golden-section fallback.\"\"\"\n",
    "    phi = (3 - np.sqrt(5)) / 2  # Golden ratio\n",
    "    \n",
    "    \n",
    "    # Initial points\n",
    "    x1 = a + phi * (b - a)\n",
    "    x2 = b - phi * (b - a)\n",
    "    f1, f2 = f(x1), f(x2)\n",
    "\n",
    "    for _ in range(max_iter):\n",
    "        if np.abs(b - a) < tol:\n",
    "            return (a + b) / 2  # Return the midpoint as the minimum\n",
    "\n",
    "        # Attempt parabolic interpolation if possible\n",
    "        try:\n",
    "            # Compute the minimum of the parabola through (a, f(a)), (x1, f1), (b, f(b))\n",
    "            u = x1 - ((x1 - a) ** 2 * (f1 - f(b)) - (x1 - b) ** 2 * (f1 - f(a))) / (\n",
    "                2 * ((x1 - a) * (f1 - f(b)) - (x1 - b) * (f1 - f(a)))\n",
    "            )\n",
    "\n",
    "             # If interpolation is valid and makes progress, use it\n",
    "            if a < u < b and np.abs(u - x1) < (b - a) / 64:\n",
    "                f_u = f(u)  # Evaluate the function at the new point\n",
    "                if f_u < f1:\n",
    "                    b, x2, f2 = x2, u, f_u  # Update the interval to [a, u]\n",
    "                else:\n",
    "                    a, x1, f1 = u, x1, f1  # Update the interval to [u, b]\n",
    "                continue  # Skip to the next iteration if interpolation is used\n",
    "            else:\n",
    "                # Fall back to golden-section search\n",
    "                if f1 < f2:\n",
    "                    b, x2, f2 = x2, x1, f1\n",
    "                    x1 = a + phi * (b - a)\n",
    "                    f1 = f(x1)\n",
    "                else:\n",
    "                    a, x1, f1 = x1, x2, f2\n",
    "                    x2 = b - phi * (b - a)\n",
    "                    f2 = f(x2)\n",
    "                    \n",
    "        except ZeroDivisionError:\n",
    "            # If parabolic interpolation fails, use golden-section search\n",
    "            if f1 < f2:\n",
    "                b, x2, f2 = x2, x1, f1\n",
    "                x1 = a + phi * (b - a)\n",
    "                f1 = f(x1)\n",
    "            else:\n",
    "                a, x1, f1 = x1, x2, f2\n",
    "                x2 = b - phi * (b - a)\n",
    "                f2 = f(x2)\n",
    "\n",
    "    raise ValueError(\"Brent's method did not converge within the given iterations.\")\n",
    "\n",
    "# Test the function y = (x - 0.3)^2 * exp(x)\n",
    "def f(x):\n",
    "    return (x - 0.3) ** 2 * np.exp(x)\n",
    "\n",
    "# Test with an appropriate interval\n",
    "a, b = 0, 1  # Search interval around the expected minimum\n",
    "min_x_custom = brent_method(f, a, b)\n",
    "\n",
    "print(f\"Minimum at x = {min_x_custom:.8f}, f(x) = {f(min_x_custom):.8f}\")\n",
    "\n",
    "\n",
    "# Test the implemented Brent method\n",
    "a, b = 0, 1  # Define the search interval\n",
    "min_x_custom = brent_method(f, a, b)\n",
    "\n",
    "# Use scipy's brent method for comparison\n",
    "min_x_scipy = brent(f, brack=(a, b))\n",
    "\n",
    "# Results\n",
    "results = {\n",
    "    \"Custom Brent's Method\": (min_x_custom, f(min_x_custom)),\n",
    "    \"SciPy Brent's Method\": (min_x_scipy, f(min_x_scipy)),\n",
    "}\n",
    "\n",
    "results\n"
   ]
  },
  {
   "cell_type": "code",
   "execution_count": null,
   "id": "584ce51c",
   "metadata": {},
   "outputs": [],
   "source": []
  }
 ],
 "metadata": {
  "kernelspec": {
   "display_name": "Python 3",
   "language": "python",
   "name": "python3"
  },
  "language_info": {
   "codemirror_mode": {
    "name": "ipython",
    "version": 3
   },
   "file_extension": ".py",
   "mimetype": "text/x-python",
   "name": "python",
   "nbconvert_exporter": "python",
   "pygments_lexer": "ipython3",
   "version": "3.8.8"
  }
 },
 "nbformat": 4,
 "nbformat_minor": 5
}
