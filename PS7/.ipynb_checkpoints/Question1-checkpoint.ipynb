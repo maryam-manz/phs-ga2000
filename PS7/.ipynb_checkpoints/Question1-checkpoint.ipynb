{
 "cells": [
  {
   "cell_type": "code",
   "execution_count": 2,
   "id": "6f5d2b27",
   "metadata": {},
   "outputs": [],
   "source": [
    "import jax\n",
    "import jax.numpy as jnp"
   ]
  },
  {
   "cell_type": "code",
   "execution_count": 6,
   "id": "4e556cb6",
   "metadata": {},
   "outputs": [
    {
     "name": "stdout",
     "output_type": "stream",
     "text": [
      "Solution for r': 0.84890317 (converged in 5 iterations)\n",
      "Distance from Earth to L1: 326318.38 km\n"
     ]
    }
   ],
   "source": [
    "def f(r, m_prime):\n",
    "    \"\"\"Function representing the rescaled equation.\"\"\"\n",
    "    return 1 / r**2 - m_prime / (1 - r)**2 - r\n",
    "\n",
    "def df_dr(r, m_prime):\n",
    "    \"\"\"Analytic derivative of the function.\"\"\"\n",
    "    return -2 / r**3 - 2 * m_prime / (1 - r)**3 - 1\n",
    "\n",
    "def newton_method(f, df, r0, m_prime, tol=1e-10, max_iter=100):\n",
    "    \"\"\"Newton's method for finding the root of a function.\"\"\"\n",
    "    r = r0\n",
    "    for i in range(max_iter):\n",
    "        f_val = f(r, m_prime)\n",
    "        df_val = df(r, m_prime)\n",
    "        r_next = r - f_val / df_val\n",
    "\n",
    "        if jnp.abs(r_next - r) < tol:\n",
    "            return r_next, i  # Root found\n",
    "        r = r_next\n",
    "\n",
    "    raise ValueError(\"Newton's method did not converge\")\n",
    "\n",
    "# Parameters\n",
    "m_prime = 0.0123  # Mass ratio of Moon to Earth (approximately)\n",
    "r0 = 0.5  # Initial guess (between 0 and 1)\n",
    "\n",
    "# Solve for r'\n",
    "r_solution, iterations = newton_method(f, df_dr, r0, m_prime)\n",
    "\n",
    "print(f\"Solution for r': {r_solution:.8f} (converged in {iterations} iterations)\")\n",
    "print(f\"Distance from Earth to L1: {r_solution * 384400:.2f} km\")\n"
   ]
  },
  {
   "cell_type": "code",
   "execution_count": 8,
   "id": "8ce3a85b",
   "metadata": {},
   "outputs": [
    {
     "name": "stdout",
     "output_type": "stream",
     "text": [
      "Moon-Earth L1: r' = 0.84890317, Distance = 326318.38 km, Iterations = 5\n",
      "Earth-Sun L1: r' = 0.99003013, Distance = 148108508.05 km, Iterations = 6\n",
      "Jupiter-Sun L1: r' = 0.93331953, Distance = 139624601.91 km, Iterations = 7\n"
     ]
    }
   ],
   "source": [
    "# Constants for different cases\n",
    "moon_earth = 0.0123  # Moon/Earth mass ratio\n",
    "earth_sun = 3.003e-6  # Earth/Sun mass ratio\n",
    "jupiter_sun = 9.545e-4  # Jupiter/Sun mass ratio\n",
    "\n",
    "# Initial guess for all cases (0.5 is a reasonable starting point)\n",
    "r0 = 0.5\n",
    "\n",
    "# Solve for Moon-Earth L1\n",
    "r_moon_earth, iter_moon_earth = newton_method(f, df_dr, r0, moon_earth)\n",
    "\n",
    "# Solve for Earth-Sun L1\n",
    "r_earth_sun, iter_earth_sun = newton_method(f, df_dr, r0, earth_sun)\n",
    "\n",
    "# Solve for Jupiter-Sun L1 at Earth's orbit\n",
    "r_jupiter_sun, iter_jupiter_sun = newton_method(f, df_dr, r0, jupiter_sun)\n",
    "\n",
    "# Scale distances to km for Earth-Moon and Earth-Sun cases\n",
    "distance_earth_moon = r_moon_earth * 384400  # km (Earth-Moon distance)\n",
    "distance_earth_sun = r_earth_sun * 1.496e8  # km (AU distance)\n",
    "distance_jupiter_sun = r_jupiter_sun * 1.496e8  # km (AU distance)\n",
    "\n",
    "# Print the results\n",
    "print(f\"Moon-Earth L1: r' = {r_moon_earth:.8f}, Distance = {distance_earth_moon:.2f} km, Iterations = {iter_moon_earth}\")\n",
    "print(f\"Earth-Sun L1: r' = {r_earth_sun:.8f}, Distance = {distance_earth_sun:.2f} km, Iterations = {iter_earth_sun}\")\n",
    "print(f\"Jupiter-Sun L1: r' = {r_jupiter_sun:.8f}, Distance = {distance_jupiter_sun:.2f} km, Iterations = {iter_jupiter_sun}\")\n"
   ]
  },
  {
   "cell_type": "code",
   "execution_count": null,
   "id": "e49fd828",
   "metadata": {},
   "outputs": [],
   "source": []
  }
 ],
 "metadata": {
  "kernelspec": {
   "display_name": "Python 3",
   "language": "python",
   "name": "python3"
  },
  "language_info": {
   "codemirror_mode": {
    "name": "ipython",
    "version": 3
   },
   "file_extension": ".py",
   "mimetype": "text/x-python",
   "name": "python",
   "nbconvert_exporter": "python",
   "pygments_lexer": "ipython3",
   "version": "3.8.8"
  }
 },
 "nbformat": 4,
 "nbformat_minor": 5
}
