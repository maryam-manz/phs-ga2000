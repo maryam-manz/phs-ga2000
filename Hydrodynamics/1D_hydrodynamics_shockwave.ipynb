{
 "cells": [
  {
   "cell_type": "code",
   "execution_count": 1,
   "id": "c222c8b8",
   "metadata": {},
   "outputs": [],
   "source": [
    "import numpy as np\n",
    "import matplotlib.pyplot as plt"
   ]
  },
  {
   "cell_type": "code",
   "execution_count": 11,
   "id": "5d7a4f9c",
   "metadata": {},
   "outputs": [],
   "source": [
    "def sound_speed(P, rho):\n",
    "    \"\"\"Calculate sound speed.\"\"\"\n",
    "    P = abs(P)  # Ensure pressure is non-negative\n",
    "    \n",
    "    return np.sqrt(gamma * P / rho)\n",
    "\n",
    "\n",
    "\n",
    "\n",
    "\n",
    "\n",
    "\n",
    "\n",
    "\n"
   ]
  },
  {
   "cell_type": "code",
   "execution_count": 3,
   "id": "866730dc",
   "metadata": {},
   "outputs": [],
   "source": [
    "def compute_flux(U):\n",
    "    \"\"\"Compute the flux vector F for a single row of conserved variables.\"\"\"\n",
    "    rho, rho_v, E = U  # Extract variables\n",
    "    \n",
    "    # Compute velocity and pressure\n",
    "    v = rho_v / rho  # Velocity\n",
    "    P = (gamma - 1) * (E - 0.5 * rho * v ** 2)  # Pressure\n",
    "    \n",
    "    # Compute fluxes\n",
    "    F = np.zeros(3)\n",
    "    F[0] = rho_v  # Mass flux\n",
    "    F[1] = rho_v * v + P  # Momentum flux\n",
    "    F[2] = (E + P) * v  # Energy flux\n",
    "\n",
    "    return F\n",
    "\n",
    "\n"
   ]
  },
  {
   "cell_type": "code",
   "execution_count": 36,
   "id": "f8746b01",
   "metadata": {},
   "outputs": [],
   "source": [
    "def HLL_flux(UL, UR):\n",
    "    \"\"\"HLL Riemann solver to compute flux at the interface.\"\"\"\n",
    "    FL = compute_flux(UL)\n",
    "    FR = compute_flux(UR)\n",
    "\n",
    "    # Extract variables from left and right states\n",
    "    rhoL, vL = UL[0], UL[1] / UL[0]\n",
    "    rhoR, vR = UR[0], UR[1] / UR[0]\n",
    "\n",
    "    # Compute pressures\n",
    "    PL = (gamma - 1) * (UL[2] - 0.5 * UL[1]**2 / UL[0])\n",
    "    PR = (gamma - 1) * (UR[2] - 0.5 * UR[1]**2 / UR[0])\n",
    "\n",
    "    # Compute sound speeds\n",
    "    cL = sound_speed(PL, rhoL)\n",
    "    cR = sound_speed(PR, rhoR)\n",
    "\n",
    "    # Compute wave speeds\n",
    "    alpha_minus = min(vL - cL, vR - cR)  # Leftward moving wave speed\n",
    "    alpha_plus = max(vL + cL, vR + cR)   # Rightward moving wave speed\n",
    "\n",
    "#     # Compute the maximum wave speed for CFL condition\n",
    "#     alpha_max = max(abs(alpha_minus), abs(alpha_plus))\n",
    "    \n",
    "    \n",
    "#     print(FL)\n",
    "\n",
    "    # Compute the HLL flux based on wave speeds\n",
    "    if alpha_minus >= 0:\n",
    "        flux = FL  # Use left flux if all waves move to the right\n",
    "    elif alpha_plus <= 0:\n",
    "        flux = FR  # Use right flux if all waves move to the left\n",
    "    else:\n",
    "        # Intermediate state: mix fluxes\n",
    "        flux = (alpha_plus * FL + alpha_minus * FR -\n",
    "                alpha_plus * alpha_minus * (UR - UL)) / (alpha_plus - alpha_minus)\n",
    "\n",
    "    return flux # Return both flux and max wave speed\n",
    "\n",
    "\n"
   ]
  },
  {
   "cell_type": "code",
   "execution_count": 37,
   "id": "bb639f80",
   "metadata": {},
   "outputs": [],
   "source": [
    "def update(U, dt):\n",
    "    \"\"\"Update conserved variables using fluxes.\"\"\"\n",
    "    U_new = np.copy(U)\n",
    "\n",
    "    for i in range(1, len(U)-1):\n",
    "        # Compute fluxes and wave speeds at the interfaces\n",
    "        flux_left = HLL_flux(U[:,i - 1], U[:, i])\n",
    "\n",
    "\n",
    "        U_new[:, i-1] -= dt/dx * (flux_left-compute_flux(U[:, i-1])) # 0.5 * global_max_alpha = dt/dx (0.5 is cfl)\n",
    "\n",
    "        \n",
    "    return U_new  # Return updated state and max alpha\n"
   ]
  },
  {
   "cell_type": "code",
   "execution_count": 50,
   "id": "7c7557b4",
   "metadata": {},
   "outputs": [],
   "source": [
    "# Parameters\n",
    "gamma = 1.4  # Adiabatic index for ideal gas\n",
    "Nx = 500 # Number of grid cells\n",
    "x = np.linspace(0, 1, Nx)\n",
    "dx = x[1] - x[0]  # Grid spacing\n",
    "dt = 0.0001  # Time step\n",
    "\n",
    "# Time step parameters\n",
    "CFL = 0.5  # Courant number for stability\n",
    "t_max = 0.01  # Maximum simulation time"
   ]
  },
  {
   "cell_type": "code",
   "execution_count": 51,
   "id": "01eff0c3",
   "metadata": {},
   "outputs": [],
   "source": [
    "# Initial conditions: (rho, u, p) on the left and right\n",
    "rho_L, u_L, p_L = 1.0, 0.0, 1.0\n",
    "rho_R, u_R, p_R = 0.125, 0.0, 0.1\n",
    "\n",
    "# Initialize primitive variables\n",
    "rho = np.zeros(Nx)\n",
    "u = np.zeros(Nx)\n",
    "p = np.zeros(Nx)\n",
    "\n",
    "# Set initial conditions\n",
    "rho[: Nx // 2] = rho_L\n",
    "u[: Nx // 2] = u_L\n",
    "p[: Nx // 2] = p_L\n",
    "\n",
    "rho[Nx // 2 :] = rho_R\n",
    "u[Nx // 2 :] = u_R\n",
    "p[Nx // 2 :] = p_R\n",
    "\n",
    "# Convert to conservative variables\n",
    "E = p / (gamma - 1) + 0.5 * rho * u**2  # Energy density\n",
    "U = np.array([rho, rho * u, E])  # [density, momentum, energy]\n",
    "\n"
   ]
  },
  {
   "cell_type": "code",
   "execution_count": 52,
   "id": "5f26804a",
   "metadata": {},
   "outputs": [],
   "source": [
    "# Time integration loop\n",
    "t = 0.0\n",
    "\n",
    "while t < t_max:\n",
    "    # Update the state and compute the global maximum wave speed\n",
    "    U = update(U, dt)\n",
    "\n",
    "    # Increment the time\n",
    "    t += dt\n",
    "    \n",
    "    \n",
    "# print(U)\n"
   ]
  },
  {
   "cell_type": "code",
   "execution_count": 53,
   "id": "f923b6e2",
   "metadata": {},
   "outputs": [
    {
     "data": {
      "image/png": "[encoded data removed]",
      "text/plain": [
       "<Figure size 864x432 with 3 Axes>"
      ]
     },
     "metadata": {
      "needs_background": "light"
     },
     "output_type": "display_data"
    }
   ],
   "source": [
    "# Extract the final primitive variables\n",
    "rho = U[0]\n",
    "u = U[1] / rho\n",
    "E = U[2]\n",
    "p = (gamma - 1) * (E - 0.5 * rho * u**2)\n",
    "\n",
    "# Plot the results\n",
    "plt.figure(figsize=(12, 6))\n",
    "plt.subplot(131)\n",
    "plt.plot(x, rho)\n",
    "plt.title(\"Density\")\n",
    "\n",
    "plt.subplot(132)\n",
    "plt.plot(x, u)\n",
    "plt.title(\"Velocity\")\n",
    "\n",
    "plt.subplot(133)\n",
    "plt.plot(x, p)\n",
    "plt.title(\"Pressure\")\n",
    "\n",
    "plt.tight_layout()\n",
    "plt.show()\n"
   ]
  },
  {
   "cell_type": "code",
   "execution_count": null,
   "id": "9e399af8",
   "metadata": {},
   "outputs": [],
   "source": []
  }
 ],
 "metadata": {
  "kernelspec": {
   "display_name": "Python 3",
   "language": "python",
   "name": "python3"
  },
  "language_info": {
   "codemirror_mode": {
    "name": "ipython",
    "version": 3
   },
   "file_extension": ".py",
   "mimetype": "text/x-python",
   "name": "python",
   "nbconvert_exporter": "python",
   "pygments_lexer": "ipython3",
   "version": "3.8.8"
  }
 },
 "nbformat": 4,
 "nbformat_minor": 5
}
