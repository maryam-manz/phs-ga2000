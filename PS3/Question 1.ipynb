{
 "cells": [
  {
   "cell_type": "code",
   "execution_count": 17,
   "id": "6f338552",
   "metadata": {},
   "outputs": [
    {
     "name": "stdout",
     "output_type": "stream",
     "text": [
      "Time taken for N = 10: 0.0005381107330322266\n",
      "Time taken for N = 20: 0.004539966583251953\n",
      "Time taken for N = 40: 0.038353919982910156\n",
      "Time taken for N = 80: 0.2951531410217285\n",
      "Factor by which the time changes: [  1.           8.43686309  71.275144   548.49889233] \n",
      "cube rooted the factors are: [1.         2.03576199 4.14615978 8.18575204]\n",
      "The time scalled with ~N^3\n"
     ]
    }
   ],
   "source": [
    "import numpy as np\n",
    "import time\n",
    "\n",
    "def matrix_multiply(N):\n",
    "    \"\"\"Function to multiply two NxN random matrices with for loop and return the time taken.\"\"\"\n",
    "    A = np.random.randint(10, size=(N, N)) \n",
    "    B = np.random.randint(10, size=(N, N)) \n",
    "    C = np.zeros([N, N], float)\n",
    "    \n",
    "    start = time.time()\n",
    "    for i in range(N): \n",
    "        for j in range(N):\n",
    "            for k in range(N):\n",
    "                C[i, j] += A[i, k] * B[k, j]\n",
    "    end = time.time()\n",
    "    \n",
    "    return end - start\n",
    "\n",
    "# List of matrix sizes\n",
    "N_values = [10, 20, 40, 80]\n",
    "times = []\n",
    "\n",
    "# Loop through different matrix sizes\n",
    "for N in N_values:\n",
    "    time_taken = matrix_multiply(N)\n",
    "    times.append(time_taken)\n",
    "    print(f'Time taken for N = {N}: {time_taken}')\n",
    "\n",
    "# Calculate the scaling factor relative to the time for N = 10\n",
    "factor = np.cbrt(np.array(times) / times[0])\n",
    "print(f'Factor by which the time changes: {np.array(times)/times[0]} \\ncube rooted the factors are: {factor}')\n",
    "print(\"The time scalled with ~N^3\")\n"
   ]
  },
  {
   "cell_type": "code",
   "execution_count": 20,
   "id": "cf445dad",
   "metadata": {},
   "outputs": [
    {
     "name": "stdout",
     "output_type": "stream",
     "text": [
      "Time taken for N with dot() = 10: 2.6226043701171875e-05\n",
      "Time taken for N with dot() = 20: 0.00012183189392089844\n",
      "Time taken for N with dot() = 40: 0.00015401840209960938\n",
      "Time taken for N with dot() = 80: 0.0004451274871826172\n",
      "Factor by which the time changes: [ 1.          4.64545455  5.87272727 16.97272727] \n",
      "cube rooted the factors are: [1.         1.6685635  1.80418033 2.56990584]\n",
      "The time taken was much lower than using for loops\n"
     ]
    }
   ],
   "source": [
    "# with dot()\n",
    "\n",
    "def matrix_multiply_dot(N):\n",
    "    \"\"\"Function to multiply two NxN random matrices with dot() and return the time taken.\"\"\"\n",
    "    A = np.random.randint(10, size=(N, N)) \n",
    "    B = np.random.randint(10, size=(N, N)) \n",
    "    C = np.zeros([N, N], float)\n",
    "    \n",
    "    start = time.time()\n",
    "    C = np.dot(A,B)\n",
    "    end = time.time()\n",
    "    \n",
    "    return end - start\n",
    "\n",
    "\n",
    "# List of matrix sizes\n",
    "N_values = [10, 20, 40, 80]\n",
    "times_dot = []\n",
    "\n",
    "# Loop through different matrix sizes\n",
    "for N in N_values:\n",
    "    time_taken_dot = matrix_multiply_dot(N)\n",
    "    times_dot.append(time_taken_dot)\n",
    "    print(f'Time taken for N with dot() = {N}: {time_taken_dot}')\n",
    "\n",
    "# Calculate the scaling factor relative to the time for N = 10\n",
    "factor_dot = np.cbrt(np.array(times_dot) / times_dot[0])\n",
    "print(f'Factor by which the time changes: {np.array(times_dot)/times_dot[0]} \\ncube rooted the factors are: {factor_dot}')\n",
    "print(\"The time taken was much lower than using for loops\")\n"
   ]
  }
 ],
 "metadata": {
  "kernelspec": {
   "display_name": "Python 3",
   "language": "python",
   "name": "python3"
  },
  "language_info": {
   "codemirror_mode": {
    "name": "ipython",
    "version": 3
   },
   "file_extension": ".py",
   "mimetype": "text/x-python",
   "name": "python",
   "nbconvert_exporter": "python",
   "pygments_lexer": "ipython3",
   "version": "3.8.8"
  }
 },
 "nbformat": 4,
 "nbformat_minor": 5
}
